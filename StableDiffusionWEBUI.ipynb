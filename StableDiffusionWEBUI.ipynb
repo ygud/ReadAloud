{
  "cells": [
    {
      "cell_type": "markdown",
      "metadata": {
        "id": "view-in-github",
        "colab_type": "text"
      },
      "source": [
        "<a href=\"https://colab.research.google.com/github/ygud/ReadAloud/blob/master/StableDiffusionWEBUI.ipynb\" target=\"_parent\"><img src=\"https://colab.research.google.com/assets/colab-badge.svg\" alt=\"Open In Colab\"/></a>"
      ]
    },
    {
      "cell_type": "markdown",
      "metadata": {
        "id": "2twbDuNnZyjM"
      },
      "source": [
        "# GPU Info"
      ]
    },
    {
      "cell_type": "code",
      "execution_count": 1,
      "metadata": {
        "colab": {
          "base_uri": "https://localhost:8080/"
        },
        "id": "p8FI40sFj9tU",
        "outputId": "a8de77b8-d063-48b7-82b6-3e10e35f0256"
      },
      "outputs": [
        {
          "output_type": "stream",
          "name": "stdout",
          "text": [
            "Sun Nov 20 02:43:37 2022       \n",
            "+-----------------------------------------------------------------------------+\n",
            "| NVIDIA-SMI 460.32.03    Driver Version: 460.32.03    CUDA Version: 11.2     |\n",
            "|-------------------------------+----------------------+----------------------+\n",
            "| GPU  Name        Persistence-M| Bus-Id        Disp.A | Volatile Uncorr. ECC |\n",
            "| Fan  Temp  Perf  Pwr:Usage/Cap|         Memory-Usage | GPU-Util  Compute M. |\n",
            "|                               |                      |               MIG M. |\n",
            "|===============================+======================+======================|\n",
            "|   0  Tesla T4            Off  | 00000000:00:04.0 Off |                    0 |\n",
            "| N/A   37C    P8     9W /  70W |      0MiB / 15109MiB |      0%      Default |\n",
            "|                               |                      |                  N/A |\n",
            "+-------------------------------+----------------------+----------------------+\n",
            "                                                                               \n",
            "+-----------------------------------------------------------------------------+\n",
            "| Processes:                                                                  |\n",
            "|  GPU   GI   CI        PID   Type   Process name                  GPU Memory |\n",
            "|        ID   ID                                                   Usage      |\n",
            "|=============================================================================|\n",
            "|  No running processes found                                                 |\n",
            "+-----------------------------------------------------------------------------+\n"
          ]
        }
      ],
      "source": [
        "!nvidia-smi"
      ]
    },
    {
      "cell_type": "markdown",
      "metadata": {
        "id": "OHCtG9MT0jLq"
      },
      "source": [
        "# Clone webui repository"
      ]
    },
    {
      "cell_type": "code",
      "execution_count": 2,
      "metadata": {
        "colab": {
          "base_uri": "https://localhost:8080/"
        },
        "id": "sBbcB4vwj_jm",
        "outputId": "1522ca1b-de54-4b1e-95d3-e7ed82738255"
      },
      "outputs": [
        {
          "output_type": "stream",
          "name": "stdout",
          "text": [
            "/content\n",
            "Cloning into 'stable-diffusion-webui'...\n",
            "remote: Enumerating objects: 11004, done.\u001b[K\n",
            "remote: Counting objects: 100% (129/129), done.\u001b[K\n",
            "remote: Compressing objects: 100% (84/84), done.\u001b[K\n",
            "remote: Total 11004 (delta 72), reused 90 (delta 45), pack-reused 10875\u001b[K\n",
            "Receiving objects: 100% (11004/11004), 23.77 MiB | 16.56 MiB/s, done.\n",
            "Resolving deltas: 100% (7674/7674), done.\n",
            "/content/stable-diffusion-webui\n",
            "Already up to date.\n"
          ]
        }
      ],
      "source": [
        "%cd /content\n",
        "!git clone https://github.com/AUTOMATIC1111/stable-diffusion-webui\n",
        "%cd /content/stable-diffusion-webui\n",
        "!git pull"
      ]
    },
    {
      "cell_type": "markdown",
      "metadata": {
        "id": "CnfuIbcQ-rn_"
      },
      "source": [
        "#Connect to Google Drive"
      ]
    },
    {
      "cell_type": "code",
      "execution_count": 3,
      "metadata": {
        "cellView": "form",
        "colab": {
          "base_uri": "https://localhost:8080/"
        },
        "id": "TYULEYPs-4EY",
        "outputId": "edb4919f-1752-4f08-aba3-e177744f5c82"
      },
      "outputs": [
        {
          "output_type": "stream",
          "name": "stdout",
          "text": [
            "/content\n",
            "Mounted at /content/drive\n",
            "models_path: /content/drive/MyDrive/AI/models\n",
            "output_path: /content/drive/MyDrive/AI/StableDiffusion\n",
            "model_copy_to: /content/stable-diffusion-webui/models/Stable-diffusion\n"
          ]
        }
      ],
      "source": [
        "#@markdown # Load the stable-diffusion model\n",
        "\n",
        "#@markdown **Google Drive Path Variables**\n",
        "force_remount = False\n",
        "\n",
        "%cd /content/\n",
        "import os\n",
        "from google.colab import drive\n",
        "try:\n",
        "  drive_path = \"/content/drive\"\n",
        "  drive.mount(drive_path,force_remount=force_remount)\n",
        "  models_path_gdrive = \"/content/drive/MyDrive/AI/models\" #@param {type:\"string\"}\n",
        "  output_path_gdrive = \"/content/drive/MyDrive/AI/StableDiffusion\" #@param {type:\"string\"}\n",
        "  models_path = models_path_gdrive\n",
        "  output_path = output_path_gdrive\n",
        "except:\n",
        "  print(\"mounting drive error\")\n",
        "  exit()\n",
        "\n",
        "os.makedirs(models_path, exist_ok=True)\n",
        "os.makedirs(output_path, exist_ok=True)\n",
        "\n",
        "print(f\"models_path: {models_path}\")\n",
        "print(f\"output_path: {output_path}\")\n",
        "copy_model_path = \"/content/stable-diffusion-webui/models/Stable-diffusion\"\n",
        "os.makedirs(copy_model_path, exist_ok=True)\n",
        "print(f\"model_copy_to: {copy_model_path}\")"
      ]
    },
    {
      "cell_type": "markdown",
      "metadata": {
        "id": "B5XygMHXnXEi"
      },
      "source": [
        "## Copy model"
      ]
    },
    {
      "cell_type": "code",
      "execution_count": 4,
      "metadata": {
        "colab": {
          "base_uri": "https://localhost:8080/"
        },
        "id": "0TFmHnJVBRI1",
        "outputId": "c5fbbd02-0c04-4fe6-df98-d4381c82d2fb"
      },
      "outputs": [
        {
          "output_type": "stream",
          "name": "stdout",
          "text": [
            " /content/stable-diffusion-webui/models/Stable-diffusion/animefull-final-pruned.ckpt\n",
            " /content/stable-diffusion-webui/models/Stable-diffusion/animefull-final-pruned.vae.pt\n",
            "'/content/stable-diffusion-webui/models/Stable-diffusion/Put Stable Diffusion checkpoints here.txt'\n"
          ]
        }
      ],
      "source": [
        "!cp /content/drive/MyDrive/AI/models/animefull-final-pruned.ckpt /content/stable-diffusion-webui/models/Stable-diffusion/animefull-final-pruned.ckpt\n",
        "!cp /content/drive/MyDrive/AI/models/animevae.pt /content/stable-diffusion-webui/models/Stable-diffusion/animefull-final-pruned.vae.pt\n",
        "!ls /content/stable-diffusion-webui/models/Stable-diffusion/*"
      ]
    },
    {
      "cell_type": "markdown",
      "metadata": {
        "id": "Q-5L8Kb6_Q5X"
      },
      "source": [
        "# requirements.txt"
      ]
    },
    {
      "cell_type": "code",
      "execution_count": null,
      "metadata": {
        "colab": {
          "base_uri": "https://localhost:8080/"
        },
        "id": "IB19TzabDtYF",
        "outputId": "cf86219c-9a5e-4e3b-b1e8-b69516f706de"
      },
      "outputs": [
        {
          "output_type": "stream",
          "name": "stdout",
          "text": [
            "/content/stable-diffusion-webui\n",
            "Python 3.7.15 (default, Oct 12 2022, 19:14:55) \n",
            "[GCC 7.5.0]\n",
            "Commit hash: 47a44c7e421b98ca07e92dbf88769b04c9e28f86\n",
            "Installing gfpgan\n",
            "Installing clip\n"
          ]
        }
      ],
      "source": [
        "%cd /content/stable-diffusion-webui\n",
        "!COMMANDLINE_ARGS=\"--exit\" REQS_FILE=\"requirements.txt\" python launch.py"
      ]
    },
    {
      "cell_type": "markdown",
      "metadata": {
        "id": "pqXhwqsT_oiO"
      },
      "source": [
        "# Launch web ui"
      ]
    },
    {
      "cell_type": "markdown",
      "metadata": {
        "id": "xt8lbdmC04ox"
      },
      "source": [
        "Launch web ui. You will get a link to nnn.gradio.app, follow it.\n",
        "\n",
        "Commandline arguments are:\n",
        "  - `--share` - create online gradio.app link\n",
        "  - `--gradio-debug` - print outputs to console"
      ]
    },
    {
      "cell_type": "code",
      "execution_count": null,
      "metadata": {
        "id": "R-xAdMA5wxXd"
      },
      "outputs": [],
      "source": [
        "!COMMANDLINE_ARGS=\"--share\" REQS_FILE=\"requirements.txt\" python launch.py"
      ]
    },
    {
      "cell_type": "markdown",
      "metadata": {
        "id": "xivwAZeMeiRy"
      },
      "source": [
        "# Copy output to Google Drive"
      ]
    },
    {
      "cell_type": "code",
      "execution_count": null,
      "metadata": {
        "cellView": "form",
        "id": "DwFvGJiYelke"
      },
      "outputs": [],
      "source": [
        "#@markdown **Copy output to Google Drive (Optional)**\n",
        "copy_to_google_drive = False #@param {type:\"boolean\"}\n",
        "\n",
        "from distutils.dir_util import copy_tree\n",
        "\n",
        "if copy_to_google_drive:\n",
        "  copy_tree(\"/content/stable-diffusion-webui/outputs\", \"/content/drive/MyDrive/AI/StableDiffusion\")"
      ]
    }
  ],
  "metadata": {
    "accelerator": "GPU",
    "colab": {
      "provenance": [],
      "include_colab_link": true
    },
    "gpuClass": "standard",
    "kernelspec": {
      "display_name": "Python 3",
      "name": "python3"
    },
    "language_info": {
      "name": "python"
    }
  },
  "nbformat": 4,
  "nbformat_minor": 0
}